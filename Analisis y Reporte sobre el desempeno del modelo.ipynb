{
  "cells": [
    {
      "cell_type": "markdown",
      "metadata": {
        "id": "zRCYqxf7OsDQ"
      },
      "source": [
        "# Análisis y Reporte sobre el desempeño del modelo"
      ]
    },
    {
      "cell_type": "markdown",
      "metadata": {
        "id": "YOGpAD58OsDU"
      },
      "source": [
        "Se eligió hacer el análisis con el modelo implementado mediante con el uso de frameworks, en esta ocasión Scikit-Learn, utilizando un random forest classifier y el conjunto de datos de la misma librería llamado Iris. A continuación se muestra no solo la implementación del mismo sino también el análisis correspondiente de los resultados obtenidos desde la identificación e interpretación del bias y varianza, así como también el cuidado realizado para evitar underfitting y overfitting del modelo, por lo cual también se dividió el conjunto de datos en train, validation y test."
      ]
    },
    {
      "cell_type": "code",
      "source": [
        "%pip install mlxtend --upgrade"
      ],
      "metadata": {
        "colab": {
          "base_uri": "https://localhost:8080/"
        },
        "id": "Dr9zltLZOwQF",
        "outputId": "44e10e39-26ba-43f7-b4b0-5ea1cd8d7c13"
      },
      "execution_count": 1,
      "outputs": [
        {
          "output_type": "stream",
          "name": "stdout",
          "text": [
            "Looking in indexes: https://pypi.org/simple, https://us-python.pkg.dev/colab-wheels/public/simple/\n",
            "Requirement already satisfied: mlxtend in /usr/local/lib/python3.7/dist-packages (0.20.0)\n",
            "Requirement already satisfied: numpy>=1.16.2 in /usr/local/lib/python3.7/dist-packages (from mlxtend) (1.21.6)\n",
            "Requirement already satisfied: matplotlib>=3.0.0 in /usr/local/lib/python3.7/dist-packages (from mlxtend) (3.2.2)\n",
            "Requirement already satisfied: setuptools in /usr/local/lib/python3.7/dist-packages (from mlxtend) (57.4.0)\n",
            "Requirement already satisfied: joblib>=0.13.2 in /usr/local/lib/python3.7/dist-packages (from mlxtend) (1.1.0)\n",
            "Requirement already satisfied: scikit-learn>=1.0.2 in /usr/local/lib/python3.7/dist-packages (from mlxtend) (1.0.2)\n",
            "Requirement already satisfied: scipy>=1.2.1 in /usr/local/lib/python3.7/dist-packages (from mlxtend) (1.7.3)\n",
            "Requirement already satisfied: pandas>=0.24.2 in /usr/local/lib/python3.7/dist-packages (from mlxtend) (1.3.5)\n",
            "Requirement already satisfied: python-dateutil>=2.1 in /usr/local/lib/python3.7/dist-packages (from matplotlib>=3.0.0->mlxtend) (2.8.2)\n",
            "Requirement already satisfied: pyparsing!=2.0.4,!=2.1.2,!=2.1.6,>=2.0.1 in /usr/local/lib/python3.7/dist-packages (from matplotlib>=3.0.0->mlxtend) (3.0.9)\n",
            "Requirement already satisfied: kiwisolver>=1.0.1 in /usr/local/lib/python3.7/dist-packages (from matplotlib>=3.0.0->mlxtend) (1.4.4)\n",
            "Requirement already satisfied: cycler>=0.10 in /usr/local/lib/python3.7/dist-packages (from matplotlib>=3.0.0->mlxtend) (0.11.0)\n",
            "Requirement already satisfied: typing-extensions in /usr/local/lib/python3.7/dist-packages (from kiwisolver>=1.0.1->matplotlib>=3.0.0->mlxtend) (4.1.1)\n",
            "Requirement already satisfied: pytz>=2017.3 in /usr/local/lib/python3.7/dist-packages (from pandas>=0.24.2->mlxtend) (2022.2.1)\n",
            "Requirement already satisfied: six>=1.5 in /usr/local/lib/python3.7/dist-packages (from python-dateutil>=2.1->matplotlib>=3.0.0->mlxtend) (1.15.0)\n",
            "Requirement already satisfied: threadpoolctl>=2.0.0 in /usr/local/lib/python3.7/dist-packages (from scikit-learn>=1.0.2->mlxtend) (3.1.0)\n"
          ]
        }
      ]
    },
    {
      "cell_type": "code",
      "execution_count": 2,
      "metadata": {
        "id": "CTmEEKsuKBoc"
      },
      "outputs": [],
      "source": [
        "# Librerias\n",
        "import pandas as pd\n",
        "import matplotlib.pyplot as plt\n",
        "import numpy as np\n",
        "from sklearn import datasets\n",
        "from sklearn.metrics import accuracy_score\n",
        "from sklearn.model_selection import train_test_split\n",
        "from sklearn.ensemble import RandomForestClassifier\n",
        "from mlxtend.evaluate import bias_variance_decomp\n",
        "from sklearn.datasets import fetch_openml"
      ]
    },
    {
      "cell_type": "code",
      "execution_count": 3,
      "metadata": {
        "id": "1U219J4eKDRg"
      },
      "outputs": [],
      "source": [
        "# Cargar datos\n",
        "iris = datasets.load_iris()\n",
        "# mnist = fetch_openml('mnist_784', version=1, as_frame = False)"
      ]
    },
    {
      "cell_type": "code",
      "execution_count": 4,
      "metadata": {
        "id": "F6yrNsrgKDoh"
      },
      "outputs": [],
      "source": [
        "# Creación y separación de datos\n",
        "X = pd.DataFrame(iris['data'], columns = iris['feature_names'])\n",
        "y = pd.DataFrame(iris['target'], columns = ['species'])\n"
      ]
    },
    {
      "cell_type": "markdown",
      "source": [
        "## Implementación del modelo\n"
      ],
      "metadata": {
        "id": "kpd4yZDKTzVJ"
      }
    },
    {
      "cell_type": "markdown",
      "source": [
        "Se se para el conjunto de datos en sets de entrenamiento, validación y prueba.\n",
        "En este caso la proporción es la siguiente:\n",
        "- Entrenamiento: 80%\n",
        "- Validación: 10%\n",
        "- Prueba: 80%"
      ],
      "metadata": {
        "id": "JwcD0LlJUUID"
      }
    },
    {
      "cell_type": "code",
      "execution_count": 36,
      "metadata": {
        "id": "1WRabK8TOsDX"
      },
      "outputs": [],
      "source": [
        "# Separación del conjunto de datos para entrenamiento, validación y prueba\n",
        "X_train, X_rem, y_train, y_rem = train_test_split(X,y, train_size=0.5)\n",
        "\n",
        "X_valid, X_test, y_valid, y_test = train_test_split(X_rem,y_rem, test_size=0.5)\n",
        "y_train, y_valid, y_test = y_train[\"species\"], y_valid[\"species\"],  y_test[\"species\"]"
      ]
    },
    {
      "cell_type": "markdown",
      "source": [
        "En este caso la clasificación es mediante un random forest classifier"
      ],
      "metadata": {
        "id": "Zc9hQky6Unj5"
      }
    },
    {
      "cell_type": "code",
      "execution_count": 37,
      "metadata": {
        "id": "hNVcnMEnKD_O"
      },
      "outputs": [],
      "source": [
        "# Creación del modelo\n",
        "clf = RandomForestClassifier(n_estimators = 100)"
      ]
    },
    {
      "cell_type": "code",
      "execution_count": 38,
      "metadata": {
        "colab": {
          "base_uri": "https://localhost:8080/"
        },
        "id": "wrzJuJc9KEIh",
        "outputId": "993f9d5e-abdf-43ee-8937-9611090c560d"
      },
      "outputs": [
        {
          "output_type": "execute_result",
          "data": {
            "text/plain": [
              "RandomForestClassifier()"
            ]
          },
          "metadata": {},
          "execution_count": 38
        }
      ],
      "source": [
        "# Entrenamiento de datos\n",
        "clf.fit(X_train, y_train)"
      ]
    },
    {
      "cell_type": "code",
      "execution_count": 40,
      "metadata": {
        "id": "Pg7np1_nKEUw"
      },
      "outputs": [],
      "source": [
        "# Predicción\n",
        "Y_hat = clf.predict(X_valid)"
      ]
    },
    {
      "cell_type": "markdown",
      "source": [
        "## Resultado del modelo previo al ajuste de hiperparámetros"
      ],
      "metadata": {
        "id": "FJMP0knBUXvX"
      }
    },
    {
      "cell_type": "code",
      "execution_count": 41,
      "metadata": {
        "colab": {
          "base_uri": "https://localhost:8080/"
        },
        "id": "Hf9iwp_iOsDZ",
        "outputId": "bd6fa5b9-e9a6-4e7e-93ae-8057e29af5fb"
      },
      "outputs": [
        {
          "output_type": "stream",
          "name": "stdout",
          "text": [
            "Comparación valores esperados vs valores predichos:\n",
            "      species  y_hat\n",
            "53         1      1\n",
            "107        2      2\n",
            "108        2      2\n",
            "28         0      0\n",
            "103        2      2\n",
            "104        2      2\n",
            "102        2      2\n",
            "137        2      2\n",
            "46         0      0\n",
            "58         1      1\n",
            "\n",
            " Accuracy:  0.972972972972973\n"
          ]
        }
      ],
      "source": [
        "# Resultados del modelo\n",
        "result = y_valid.copy()\n",
        "result = pd.DataFrame(result)\n",
        "result['y_hat'] = Y_hat.copy()\n",
        "print(\"Comparación valores esperados vs valores predichos:\\n\", result[:10])\n",
        "print('\\n Accuracy: ', accuracy_score(y_valid, Y_hat))"
      ]
    },
    {
      "cell_type": "code",
      "execution_count": 10,
      "metadata": {
        "id": "wsaEzZ3CSkmy"
      },
      "outputs": [],
      "source": [
        "avg_expected_loss, avg_bias, avg_var = bias_variance_decomp(clf, X_train.values, y_train.values, X_valid.values, y_valid.values, loss='0-1_loss', random_seed = 42)"
      ]
    },
    {
      "cell_type": "code",
      "execution_count": 11,
      "metadata": {
        "colab": {
          "base_uri": "https://localhost:8080/"
        },
        "id": "V8LvkoV1OsDa",
        "outputId": "81f63a6d-cb2a-4212-e5ff-4402f719bea4"
      },
      "outputs": [
        {
          "output_type": "stream",
          "name": "stdout",
          "text": [
            "Average bias 0.0\n",
            "Average variance 0.005833333333333333\n"
          ]
        }
      ],
      "source": [
        "print(f\"Average bias {avg_bias}\")\n",
        "print(f\"Average variance {avg_var}\")"
      ]
    },
    {
      "cell_type": "markdown",
      "source": [
        "**Accuracy**\n",
        "\n",
        "Podemos observar un alto accuracy del modelo lo cual aunque es un buen indicador de lo bueno que es el modelo en la clasificación.\n",
        "\n",
        "**Bias y variance**\n",
        "\n",
        "Debido a que el sesgo o bias no es alto al igual que la varianza, se puede concluir que el modelo aparentemente no tiene overfitting ni underfitting.\n",
        "\n",
        "\n",
        "\n"
      ],
      "metadata": {
        "id": "p2VnlEW-Uiv8"
      }
    },
    {
      "cell_type": "markdown",
      "source": [
        "## Ajuste de hiperparámetros\n",
        "\n",
        "Para encontrar los mejores hiperparámetros del modelo, n_estimators y max_depth en este caso se decidió usar GridSearchCV, el cual ya tiene integrado Cross-validation lo que ayuda aun más al modelo a que este no se sobreajuste a los dato.\n",
        "\n",
        "Aunque se debió utilizar el set de validación, debido a que el conjunto de datos es muy pequeño (150 observaciones), hacerlo de ese modo resulta en accuracy de 1, lo cual no representa "
      ],
      "metadata": {
        "id": "f9hHvVlYWHai"
      }
    },
    {
      "cell_type": "code",
      "execution_count": 12,
      "metadata": {
        "id": "m-PhBxYSOsDb"
      },
      "outputs": [],
      "source": [
        "param_grid = {\n",
        "     'n_estimators': [100, 200, 400],\n",
        "     'max_depth':[10, 20, 30, None]\n",
        "}"
      ]
    },
    {
      "cell_type": "code",
      "execution_count": 13,
      "metadata": {
        "id": "rp-ctB_aRb8N",
        "colab": {
          "base_uri": "https://localhost:8080/"
        },
        "outputId": "4e94fe21-d8eb-494e-9acf-61918c4144ee"
      },
      "outputs": [
        {
          "output_type": "execute_result",
          "data": {
            "text/plain": [
              "GridSearchCV(cv=10, estimator=RandomForestClassifier(),\n",
              "             param_grid={'max_depth': [10, 20, 30, None],\n",
              "                         'n_estimators': [100, 200, 400]})"
            ]
          },
          "metadata": {},
          "execution_count": 13
        }
      ],
      "source": [
        "from sklearn.model_selection import GridSearchCV\n",
        "\n",
        "classifier = RandomForestClassifier()\n",
        "grid_clf = GridSearchCV(classifier, param_grid, cv=10)\n",
        "grid_clf.fit(X_train, y_train)"
      ]
    },
    {
      "cell_type": "code",
      "execution_count": 14,
      "metadata": {
        "colab": {
          "base_uri": "https://localhost:8080/",
          "height": 296
        },
        "id": "dRO7q4gUOsDc",
        "outputId": "8505d07b-3264-407a-91bc-91070fb085b6"
      },
      "outputs": [
        {
          "output_type": "display_data",
          "data": {
            "text/plain": [
              "<Figure size 432x288 with 1 Axes>"
            ],
            "image/png": "[encoded data removed]"
          },
          "metadata": {
            "needs_background": "light"
          }
        }
      ],
      "source": [
        "def plot_grid_search(cv_results, grid_param_1, grid_param_2, name_param_1, name_param_2):\n",
        "    # Get Test Scores Mean and std for each grid search\n",
        "    scores_mean = cv_results['mean_test_score']\n",
        "    scores_mean = np.array(scores_mean).reshape(len(grid_param_2),len(grid_param_1))\n",
        "\n",
        "    scores_sd = cv_results['std_test_score']\n",
        "    scores_sd = np.array(scores_sd).reshape(len(grid_param_2),len(grid_param_1))\n",
        "\n",
        "    # Plot Grid search scores\n",
        "    _, ax = plt.subplots(1,1)\n",
        "\n",
        "    # Param1 is the X-axis, Param 2 is represented as a different curve (color line)\n",
        "    for idx, val in enumerate(grid_param_2):\n",
        "        ax.plot(grid_param_1, scores_mean[idx,:], '-o', label= name_param_2 + ': ' + str(val))\n",
        "\n",
        "    ax.set_title(\"Grid Search Scores\", fontsize=20, fontweight='bold')\n",
        "    ax.set_xlabel(name_param_1, fontsize=7)\n",
        "    ax.set_ylabel('CV Average Score', fontsize=16)\n",
        "    ax.legend(loc=\"best\", fontsize=7)\n",
        "    ax.grid('on')\n",
        "\n",
        "# Calling Method\n",
        "plot_grid_search(grid_clf.cv_results_, param_grid[\"n_estimators\"], param_grid[\"max_depth\"], 'N Estimators', 'Max Depth')"
      ]
    },
    {
      "cell_type": "code",
      "source": [
        "grid_clf.best_estimator_"
      ],
      "metadata": {
        "colab": {
          "base_uri": "https://localhost:8080/"
        },
        "id": "1wddlkpmTBGB",
        "outputId": "7c7af0d3-f6f9-42f3-cf81-401e6ff510c6"
      },
      "execution_count": 15,
      "outputs": [
        {
          "output_type": "execute_result",
          "data": {
            "text/plain": [
              "RandomForestClassifier(max_depth=10, n_estimators=200)"
            ]
          },
          "metadata": {},
          "execution_count": 15
        }
      ]
    },
    {
      "cell_type": "markdown",
      "source": [
        "## Resultados del modelo con el conjunto de pruebas"
      ],
      "metadata": {
        "id": "8az9r1ssb5Kr"
      }
    },
    {
      "cell_type": "code",
      "execution_count": 16,
      "metadata": {
        "colab": {
          "base_uri": "https://localhost:8080/"
        },
        "outputId": "2aca5c5c-48f3-4a31-c327-b34c2d86b495",
        "id": "YaMStbb_b3s8"
      },
      "outputs": [
        {
          "output_type": "stream",
          "name": "stdout",
          "text": [
            "Comparación valores esperados vs valores predichos:\n",
            "      species  y_hat\n",
            "48         0      0\n",
            "53         1      1\n",
            "92         1      1\n",
            "14         0      0\n",
            "110        2      2\n",
            "98         1      1\n",
            "57         1      1\n",
            "107        2      2\n",
            "59         1      1\n",
            "120        2      2\n",
            "\n",
            " Accuracy:  0.9666666666666667\n"
          ]
        }
      ],
      "source": [
        "# Resultados del modelo\n",
        "Y_hat = grid_clf.best_estimator_.predict(X_test)\n",
        "result = y_test.copy()\n",
        "result = pd.DataFrame(result)\n",
        "result['y_hat'] = Y_hat.copy()\n",
        "print(\"Comparación valores esperados vs valores predichos:\\n\", result[:10])\n",
        "print('\\n Accuracy: ', accuracy_score(y_test, Y_hat))"
      ]
    },
    {
      "cell_type": "code",
      "execution_count": 17,
      "metadata": {
        "id": "iuXCnBvKb3s8"
      },
      "outputs": [],
      "source": [
        "avg_expected_loss, avg_bias, avg_var = bias_variance_decomp(grid_clf.best_estimator_, X_train.values, y_train.values, X_test.values, y_test.values, loss='0-1_loss', random_seed = 42)"
      ]
    },
    {
      "cell_type": "code",
      "execution_count": 18,
      "metadata": {
        "colab": {
          "base_uri": "https://localhost:8080/"
        },
        "outputId": "86fae03a-e201-4716-f2f7-d333c90ae2f4",
        "id": "eAOmqCz0b3s8"
      },
      "outputs": [
        {
          "output_type": "stream",
          "name": "stdout",
          "text": [
            "Average bias 0.03333333333333333\n",
            "Average variance 0.0028333333333333335\n"
          ]
        }
      ],
      "source": [
        "print(f\"Average bias {avg_bias}\")\n",
        "print(f\"Average variance {avg_var}\")"
      ]
    },
    {
      "cell_type": "markdown",
      "source": [
        "Debido a que los resultados son muy parecidos a los del modelo antes del ajuste de hiperparámetros el análisis de los resultados se mantiene.\n",
        "\n",
        "**Accuracy**\n",
        "\n",
        "Podemos observar un alto accuracy del modelo lo cual aunque es un buen indicador de lo bueno que es el modelo en la clasificación.\n",
        "\n",
        "**Bias y variance**\n",
        "\n",
        "Debido a que el sesgo o bias no es alto al igual que la varianza, se puede concluir que el modelo aparentemente no tiene overfitting ni underfitting."
      ],
      "metadata": {
        "id": "R3Dn1J8veuSZ"
      }
    }
  ],
  "metadata": {
    "colab": {
      "provenance": []
    },
    "kernelspec": {
      "display_name": "Python 3 (ipykernel)",
      "language": "python",
      "name": "python3"
    },
    "language_info": {
      "codemirror_mode": {
        "name": "ipython",
        "version": 3
      },
      "file_extension": ".py",
      "mimetype": "text/x-python",
      "name": "python",
      "nbconvert_exporter": "python",
      "pygments_lexer": "ipython3",
      "version": "3.10.2"
    }
  },
  "nbformat": 4,
  "nbformat_minor": 0
}